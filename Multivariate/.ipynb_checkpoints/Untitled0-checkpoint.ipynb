{
 "metadata": {
  "name": "",
  "signature": "sha256:ea55b434a1f943f949b88052fe3329b2332785aedeefd8364c8eec300c72be4b"
 },
 "nbformat": 3,
 "nbformat_minor": 0,
 "worksheets": []
}